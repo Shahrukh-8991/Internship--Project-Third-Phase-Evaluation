{
 "cells": [
  {
   "cell_type": "code",
   "execution_count": 1,
   "id": "907d6e78",
   "metadata": {},
   "outputs": [],
   "source": [
    "import pandas as pd\n",
    "\n",
    "# Load the dataset\n",
    "file_path = r'C:\\Users\\shahr\\Downloads\\Census Income.csv'\n",
    "data = pd.read_csv(file_path)\n"
   ]
  },
  {
   "cell_type": "code",
   "execution_count": 19,
   "id": "923ba5d4",
   "metadata": {},
   "outputs": [
    {
     "name": "stdout",
     "output_type": "stream",
     "text": [
      "   Age          Workclass  Fnlwgt   Education  Education_num  \\\n",
      "0   50   Self-emp-not-inc   83311   Bachelors             13   \n",
      "1   38            Private  215646     HS-grad              9   \n",
      "2   53            Private  234721        11th              7   \n",
      "3   28            Private  338409   Bachelors             13   \n",
      "4   37            Private  284582     Masters             14   \n",
      "\n",
      "        Marital_status          Occupation    Relationship    Race      Sex  \\\n",
      "0   Married-civ-spouse     Exec-managerial         Husband   White     Male   \n",
      "1             Divorced   Handlers-cleaners   Not-in-family   White     Male   \n",
      "2   Married-civ-spouse   Handlers-cleaners         Husband   Black     Male   \n",
      "3   Married-civ-spouse      Prof-specialty            Wife   Black   Female   \n",
      "4   Married-civ-spouse     Exec-managerial            Wife   White   Female   \n",
      "\n",
      "   Capital_gain  Capital_loss  Hours_per_week  Native_country  Income  \n",
      "0             0             0              13   United-States   <=50K  \n",
      "1             0             0              40   United-States   <=50K  \n",
      "2             0             0              40   United-States   <=50K  \n",
      "3             0             0              40            Cuba   <=50K  \n",
      "4             0             0              40   United-States   <=50K  \n",
      "Index(['Age', 'Workclass', 'Fnlwgt', 'Education', 'Education_num',\n",
      "       'Marital_status', 'Occupation', 'Relationship', 'Race', 'Sex',\n",
      "       'Capital_gain', 'Capital_loss', 'Hours_per_week', 'Native_country',\n",
      "       'Income'],\n",
      "      dtype='object')\n",
      "(32560, 15)\n",
      "                Age        Fnlwgt  Education_num  Capital_gain  Capital_loss  \\\n",
      "count  32560.000000  3.256000e+04   32560.000000  32560.000000  32560.000000   \n",
      "mean      38.581634  1.897818e+05      10.080590   1077.615172     87.306511   \n",
      "std       13.640642  1.055498e+05       2.572709   7385.402999    402.966116   \n",
      "min       17.000000  1.228500e+04       1.000000      0.000000      0.000000   \n",
      "25%       28.000000  1.178315e+05       9.000000      0.000000      0.000000   \n",
      "50%       37.000000  1.783630e+05      10.000000      0.000000      0.000000   \n",
      "75%       48.000000  2.370545e+05      12.000000      0.000000      0.000000   \n",
      "max       90.000000  1.484705e+06      16.000000  99999.000000   4356.000000   \n",
      "\n",
      "       Hours_per_week  \n",
      "count    32560.000000  \n",
      "mean        40.437469  \n",
      "std         12.347618  \n",
      "min          1.000000  \n",
      "25%         40.000000  \n",
      "50%         40.000000  \n",
      "75%         45.000000  \n",
      "max         99.000000  \n"
     ]
    }
   ],
   "source": [
    "# Display the first few rows of the dataset\n",
    "print(data.head())\n",
    "\n",
    "# Check the columns in the dataset\n",
    "print(data.columns)\n",
    "\n",
    "# Check the shape of the dataset\n",
    "print(data.shape)\n",
    "\n",
    "# Check summary statistics\n",
    "print(data.describe())\n"
   ]
  },
  {
   "cell_type": "code",
   "execution_count": 3,
   "id": "cd41a29c",
   "metadata": {},
   "outputs": [
    {
     "name": "stdout",
     "output_type": "stream",
     "text": [
      "Age               0\n",
      "Workclass         0\n",
      "Fnlwgt            0\n",
      "Education         0\n",
      "Education_num     0\n",
      "Marital_status    0\n",
      "Occupation        0\n",
      "Relationship      0\n",
      "Race              0\n",
      "Sex               0\n",
      "Capital_gain      0\n",
      "Capital_loss      0\n",
      "Hours_per_week    0\n",
      "Native_country    0\n",
      "Income            0\n",
      "dtype: int64\n",
      "Age                int64\n",
      "Workclass         object\n",
      "Fnlwgt             int64\n",
      "Education         object\n",
      "Education_num      int64\n",
      "Marital_status    object\n",
      "Occupation        object\n",
      "Relationship      object\n",
      "Race              object\n",
      "Sex               object\n",
      "Capital_gain       int64\n",
      "Capital_loss       int64\n",
      "Hours_per_week     int64\n",
      "Native_country    object\n",
      "Income            object\n",
      "dtype: object\n"
     ]
    }
   ],
   "source": [
    "# Check for missing values\n",
    "print(data.isnull().sum())\n",
    "\n",
    "# Check data types\n",
    "print(data.dtypes)\n"
   ]
  },
  {
   "cell_type": "code",
   "execution_count": 8,
   "id": "789c27c1",
   "metadata": {},
   "outputs": [
    {
     "name": "stdout",
     "output_type": "stream",
     "text": [
      "Index(['Age', 'Workclass', 'Fnlwgt', 'Education', 'Education_num',\n",
      "       'Marital_status', 'Occupation', 'Relationship', 'Race', 'Sex',\n",
      "       'Capital_gain', 'Capital_loss', 'Hours_per_week', 'Native_country',\n",
      "       'Income'],\n",
      "      dtype='object')\n"
     ]
    },
    {
     "name": "stderr",
     "output_type": "stream",
     "text": [
      "C:\\Users\\shahr\\anaconda3\\lib\\site-packages\\seaborn\\_oldcore.py:1119: FutureWarning: use_inf_as_na option is deprecated and will be removed in a future version. Convert inf values to NaN before operating instead.\n",
      "  with pd.option_context('mode.use_inf_as_na', True):\n"
     ]
    },
    {
     "data": {
      "image/png": "[encoded data removed]",
      "text/plain": [
       "<Figure size 640x480 with 1 Axes>"
      ]
     },
     "metadata": {},
     "output_type": "display_data"
    }
   ],
   "source": [
    "# Print columns to check for existence and correct spelling\n",
    "print(data.columns)\n",
    "\n",
    "# Adjust column name if needed and retry plotting\n",
    "sns.histplot(data['Age'], bins=20, kde=True)  # Assuming the correct column name is 'Age'\n",
    "plt.title('Distribution of Age')\n",
    "plt.xlabel('Age')\n",
    "plt.ylabel('Count')\n",
    "plt.show()\n"
   ]
  },
  {
   "cell_type": "code",
   "execution_count": 16,
   "id": "a9e8f3c8",
   "metadata": {},
   "outputs": [
    {
     "name": "stdout",
     "output_type": "stream",
     "text": [
      "Index(['Age', 'Workclass', 'Fnlwgt', 'Education', 'Education_num',\n",
      "       'Marital_status', 'Occupation', 'Relationship', 'Race', 'Sex',\n",
      "       'Capital_gain', 'Capital_loss', 'Hours_per_week', 'Native_country',\n",
      "       'Income'],\n",
      "      dtype='object')\n",
      "Column 'target_column_name' not found in DataFrame. Check your column names.\n",
      "Failed to define X and y. Check earlier steps.\n"
     ]
    }
   ],
   "source": [
    "from sklearn.model_selection import train_test_split\n",
    "from sklearn.linear_model import LogisticRegression\n",
    "from sklearn.metrics import accuracy_score\n",
    "\n",
    "# Verify column names\n",
    "print(data.columns)\n",
    "\n",
    "# Ensure 'target_column_name' is in the list of columns\n",
    "if 'target_column_name' in data.columns:\n",
    "    # Assuming 'X' contains features and 'y' contains the target variable\n",
    "    X = data.drop(columns=['target_column_name'])\n",
    "    y = data['target_column_name']\n",
    "else:\n",
    "    print(\"Column 'target_column_name' not found in DataFrame. Check your column names.\")\n",
    "\n",
    "# Check if X and y are defined before proceeding\n",
    "if 'X' in locals() and 'y' in locals():\n",
    "    # Split data into training and testing sets\n",
    "    X_train, X_test, y_train, y_test = train_test_split(X, y, test_size=0.2, random_state=42)\n",
    "\n",
    "    # Initialize the model\n",
    "    model = LogisticRegression()\n",
    "\n",
    "    # Train the model\n",
    "    model.fit(X_train, y_train)\n",
    "    \n",
    "    # Predict on the test set\n",
    "    y_pred = model.predict(X_test)\n",
    "  \n",
    "    # Evaluate the model\n",
    "    accuracy = accuracy_score(y_test, y_pred)\n",
    "    print(f'Accuracy of the model: {accuracy:.2f}')\n",
    "else:\n",
    "    print(\"Failed to define X and y. Check earlier steps.\")\n"
   ]
  },
  {
   "cell_type": "code",
   "execution_count": null,
   "id": "ad2228ad",
   "metadata": {},
   "outputs": [],
   "source": []
  }
 ],
 "metadata": {
  "kernelspec": {
   "display_name": "Python 3 (ipykernel)",
   "language": "python",
   "name": "python3"
  },
  "language_info": {
   "codemirror_mode": {
    "name": "ipython",
    "version": 3
   },
   "file_extension": ".py",
   "mimetype": "text/x-python",
   "name": "python",
   "nbconvert_exporter": "python",
   "pygments_lexer": "ipython3",
   "version": "3.10.9"
  }
 },
 "nbformat": 4,
 "nbformat_minor": 5
}
